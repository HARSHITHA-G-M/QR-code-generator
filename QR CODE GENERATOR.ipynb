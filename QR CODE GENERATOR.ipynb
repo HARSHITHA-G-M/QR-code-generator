{
 "cells": [
  {
   "cell_type": "code",
   "execution_count": 15,
   "id": "60cc7d24",
   "metadata": {},
   "outputs": [],
   "source": [
    "import qrcode\n",
    "link = \"https://github.com/HARSHITHA-G-M\"\n",
    "qr = qrcode.QRCode(\n",
    "    version=1, \n",
    "    error_correction=qrcode.constants.ERROR_CORRECT_L,  \n",
    "    box_size=10, \n",
    "    border=4,  \n",
    ")\n",
    "qr.add_data(link)\n",
    "qr.make(fit=True)\n",
    "img = qr.make_image(fill=\"Black\", back_color=\"white\")\n",
    "img.save(\"link_qrcode.png\")\n",
    "img.show()\n",
    "\n"
   ]
  },
  {
   "cell_type": "code",
   "execution_count": 13,
   "id": "91490e36",
   "metadata": {},
   "outputs": [],
   "source": [
    "\n"
   ]
  },
  {
   "cell_type": "code",
   "execution_count": null,
   "id": "b8b0e08a",
   "metadata": {},
   "outputs": [],
   "source": []
  },
  {
   "cell_type": "code",
   "execution_count": null,
   "id": "fef3c5c7",
   "metadata": {},
   "outputs": [],
   "source": []
  },
  {
   "cell_type": "code",
   "execution_count": null,
   "id": "28594639",
   "metadata": {},
   "outputs": [],
   "source": []
  },
  {
   "cell_type": "code",
   "execution_count": null,
   "id": "3da62751",
   "metadata": {},
   "outputs": [],
   "source": []
  },
  {
   "cell_type": "code",
   "execution_count": null,
   "id": "714bc0df",
   "metadata": {},
   "outputs": [],
   "source": []
  }
 ],
 "metadata": {
  "kernelspec": {
   "display_name": "Python 3 (ipykernel)",
   "language": "python",
   "name": "python3"
  },
  "language_info": {
   "codemirror_mode": {
    "name": "ipython",
    "version": 3
   },
   "file_extension": ".py",
   "mimetype": "text/x-python",
   "name": "python",
   "nbconvert_exporter": "python",
   "pygments_lexer": "ipython3",
   "version": "3.10.9"
  }
 },
 "nbformat": 4,
 "nbformat_minor": 5
}
